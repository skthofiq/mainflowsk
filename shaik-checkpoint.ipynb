{
 "cells": [
  {
   "cell_type": "code",
   "execution_count": 17,
   "id": "4a5300ca-6f9b-4c14-9258-d505dfcc597e",
   "metadata": {},
   "outputs": [
    {
     "name": "stdout",
     "output_type": "stream",
     "text": [
      "updated list: [1, 'rk', 3, 6, 7, 2]\n"
     ]
    }
   ],
   "source": [
    "#creating a list\n",
    "my_list = [1,3,4,6,7]\n",
    "\n",
    "#adding an element to the list\n",
    "my_list.append(9)\n",
    "\n",
    "#removing an element from the list\n",
    "my_list.remove(4)\n",
    "\n",
    "#modifying an element in the list\n",
    "my_list[4]=2\n",
    "\n",
    "#inserting an element in the list\n",
    "my_list.insert(1,'rk')\n",
    "\n",
    "print(\"updated list:\",my_list)"
   ]
  },
  {
   "cell_type": "code",
   "execution_count": 19,
   "id": "358fd4a9-30f2-48d6-aca2-e354eccb78db",
   "metadata": {},
   "outputs": [
    {
     "name": "stdout",
     "output_type": "stream",
     "text": [
      "updated dictionary: {'name': 'sai', 'city': 'kothagudem', 'gender': 'male'}\n"
     ]
    }
   ],
   "source": [
    "#creating a dictionary\n",
    "my_dict = {'name':'sai','age':21,'city':'khammam'}\n",
    "\n",
    "#adding a key value pair to the dictionary\n",
    "my_dict['gender']='male'\n",
    "\n",
    "#removing a key value pair from the dictionary\n",
    "del my_dict['age']\n",
    "\n",
    "#modifying a value in the dictionary\n",
    "my_dict['city']='kothagudem'\n",
    "\n",
    "print('updated dictionary:',my_dict)"
   ]
  },
  {
   "cell_type": "code",
   "execution_count": 21,
   "id": "25cf2723-a3c2-494a-a4d6-2dfff33c151f",
   "metadata": {},
   "outputs": [
    {
     "name": "stdout",
     "output_type": "stream",
     "text": [
      "(1, 2, 5)\n"
     ]
    }
   ],
   "source": [
    "#orginal tuple\n",
    "orginal_tuple = (1,2,4)\n",
    "\n",
    "#adding an element to the tuple\n",
    "new_element = 3\n",
    "updated_tuple = orginal_tuple + (new_element,)\n",
    "\n",
    "#removing an element from the tuple\n",
    "updated_tuple = orginal_tuple[:1]+orginal_tuple[2:]\n",
    "\n",
    "#modifying an element in the tuple\n",
    "modifying_element=5\n",
    "updated_tuple = orginal_tuple[:2]+(modifying_element,)+orginal_tuple[3:]\n",
    "\n",
    "print(updated_tuple)"
   ]
  },
  {
   "cell_type": "code",
   "execution_count": null,
   "id": "c13ffabf-e9bf-40ea-b0a2-abe6214ac6c1",
   "metadata": {},
   "outputs": [],
   "source": []
  }
 ],
 "metadata": {
  "kernelspec": {
   "display_name": "Python 3 (ipykernel)",
   "language": "python",
   "name": "python3"
  },
  "language_info": {
   "codemirror_mode": {
    "name": "ipython",
    "version": 3
   },
   "file_extension": ".py",
   "mimetype": "text/x-python",
   "name": "python",
   "nbconvert_exporter": "python",
   "pygments_lexer": "ipython3",
   "version": "3.12.4"
  }
 },
 "nbformat": 4,
 "nbformat_minor": 5
}
